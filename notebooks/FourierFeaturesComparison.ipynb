{
 "cells": [
  {
   "cell_type": "code",
   "execution_count": 1,
   "id": "84f0e960-f4e5-49ee-b83c-0e7834f54cd2",
   "metadata": {},
   "outputs": [
    {
     "name": "stderr",
     "output_type": "stream",
     "text": [
      "/home/ronaldalbert/Documents/env/algo_reasoning/lib/python3.10/site-packages/tqdm/auto.py:21: TqdmWarning: IProgress not found. Please update jupyter and ipywidgets. See https://ipywidgets.readthedocs.io/en/stable/user_install.html\n",
      "  from .autonotebook import tqdm as notebook_tqdm\n"
     ]
    }
   ],
   "source": [
    "import torch\n",
    "from algo_reasoning.src.sampler import CLRSDataset\n",
    "from pathlib import Path\n",
    "\n",
    "device = torch.device(\"cuda\" if torch.cuda.is_available() else \"cpu\")"
   ]
  },
  {
   "cell_type": "code",
   "execution_count": 2,
   "id": "8b89f1d2-f8ce-4412-841c-b113dec058c3",
   "metadata": {},
   "outputs": [],
   "source": [
    "from algo_reasoning.src.models.network import EncodeProcessDecode\n",
    "from algo_reasoning.src.lightning.AlgorithmicReasoningTask import AlgorithmicReasoningTask \n",
    "from algo_reasoning.src.specs import CLRS_30_ALGS\n",
    "from algo_reasoning.src.losses.AlgorithmicReasoningLoss import AlgorithmicReasoningLoss"
   ]
  },
  {
   "cell_type": "markdown",
   "id": "97b344df-ce44-4d2a-9299-f152d7a27072",
   "metadata": {},
   "source": [
    "# Define function for loading models"
   ]
  },
  {
   "cell_type": "code",
   "execution_count": 3,
   "id": "0a1d5e79-57cb-430a-9cad-b6eb92c8b4bb",
   "metadata": {},
   "outputs": [],
   "source": [
    "def load_models(algorithms):\n",
    "    mpnn_ckpt_path = str(next(Path(f\"../checkpoints/{algorithms[0]}/\").glob(f\"{algorithms[0]}-mpnn0*\")))\n",
    "    spectral_ckpt_path = str(next(Path(f\"../checkpoints/{algorithms[0]}/\").glob(f\"{algorithms[0]}-spectralmpnn0*\")))\n",
    "\n",
    "    model_mpnn = EncodeProcessDecode(algorithms, processor='mpnn')\n",
    "    model_spectral = EncodeProcessDecode(algorithms, processor='spectralmpnn2')\n",
    "\n",
    "    loss_fn = AlgorithmicReasoningLoss()\n",
    "    \n",
    "    mpnn = AlgorithmicReasoningTask.load_from_checkpoint(mpnn_ckpt_path, model=model_mpnn, loss_fn=loss_fn, strict=False).model.to(device)\n",
    "    spectral = model = AlgorithmicReasoningTask.load_from_checkpoint(spectral_ckpt_path, model=model_spectral, loss_fn=loss_fn, strict=False).model.to(device)\n",
    "\n",
    "    mpnn.eval()\n",
    "    spectral.eval()\n",
    "    return mpnn, spectral"
   ]
  },
  {
   "cell_type": "markdown",
   "id": "c5b81c8c-9b2f-4ec9-813f-ab7d779cf059",
   "metadata": {},
   "source": [
    "# Compute Fourier Features"
   ]
  },
  {
   "cell_type": "code",
   "execution_count": 4,
   "id": "31db8341-edd2-4119-81ad-e4e4282622df",
   "metadata": {},
   "outputs": [],
   "source": [
    "def fourier_transform(embeddings, adj_matrix=None):\n",
    "    \"\"\"\n",
    "    Compute the Fourier Transform of the embeddings.\n",
    "\n",
    "    Args:\n",
    "        embeddings: a tensor of shape (batch_size, sequence_length, embedding_dim)\n",
    "\n",
    "    Returns:\n",
    "        a tensor of shape (batch_size, sequence_length, embedding_dim)\n",
    "    \"\"\"\n",
    "    if adj_matrix is None:\n",
    "        adj_matrix = torch.ones((embeddings.size(0), embeddings.size(-2),embeddings.size(-2)), device=device)\n",
    "    degrees = torch.sum(adj_matrix, dim=1)\n",
    "    degree_matrix = torch.stack([torch.diag(degrees[d]) for d in range(degrees.size(0))], dim=0)\n",
    "    laplacian = degree_matrix - adj_matrix\n",
    "    \n",
    "    result = torch.linalg.eigh(laplacian)\n",
    "    eigenvalues = result.eigenvalues\n",
    "    eigenvectors = result.eigenvectors\n",
    "    \n",
    "    eigenvalues[torch.isclose(eigenvalues, torch.tensor(0.))] = 0.\n",
    "\n",
    "    return eigenvectors.transpose(-2, -1)@embeddings, eigenvectors, eigenvalues"
   ]
  },
  {
   "cell_type": "markdown",
   "id": "1d41d267-05a3-4800-84b3-7ce4eb79eca6",
   "metadata": {},
   "source": [
    "# Load Default Algorithm Args"
   ]
  },
  {
   "cell_type": "code",
   "execution_count": 5,
   "id": "fe991ab7-6a97-4bea-885f-dc3ea2ae3758",
   "metadata": {},
   "outputs": [],
   "source": [
    "def load_algorithm_args(args_file):\n",
    "    with open(args_file, 'r') as f:\n",
    "        args = yaml.safe_load(f)\n",
    "\n",
    "    return args\n",
    "\n",
    "algorithm_args = \"algorithm_args/default.yaml\""
   ]
  },
  {
   "cell_type": "code",
   "execution_count": 6,
   "id": "4bf524fe-112e-4374-a8af-b2eed8b21d63",
   "metadata": {},
   "outputs": [],
   "source": [
    "algorithms = [\"articulation_points\"]\n",
    "\n",
    "nb_nodes = 16\n",
    "ds = CLRSDataset(algorithms, nb_nodes, 8, 1000, seed=7, algorithms_args=algorithm_args)"
   ]
  },
  {
   "cell_type": "code",
   "execution_count": 7,
   "id": "3ddd93a7-66fc-46ee-ba03-239faba85cf6",
   "metadata": {},
   "outputs": [],
   "source": [
    "mpnn_model, spectral_model = load_models(algorithms)\n",
    "\n",
    "obj = next(iter(ds)).to(device=device)\n",
    "\n",
    "output_mpnn, output_spectral  = mpnn_model(obj), spectral_model(obj)\n",
    "adj_matrix = obj.inputs.A\n",
    "embeddings_mpnn, embeddings_spectral = output_mpnn.hidden_embeddings, output_spectral.hidden_embeddings"
   ]
  },
  {
   "cell_type": "code",
   "execution_count": 8,
   "id": "abcba051-d10b-4853-a7fc-77acb20d15a2",
   "metadata": {},
   "outputs": [],
   "source": [
    "fourier_embeddings_mpnn, eigenvectors_mpnn, eigenvalues_mpnn = fourier_transform(embeddings_mpnn[:, 0], adj_matrix)\n",
    "fourier_embeddings_spectral, eigenvectors_spectral, eigenvalues_spectral = fourier_transform(embeddings_spectral[:, 0], adj_matrix)"
   ]
  },
  {
   "cell_type": "code",
   "execution_count": 10,
   "id": "55fa889f-2df1-4aa6-9542-d412742a1801",
   "metadata": {},
   "outputs": [
    {
     "data": {
      "text/plain": [
       "<BarContainer object of 16 artists>"
      ]
     },
     "execution_count": 10,
     "metadata": {},
     "output_type": "execute_result"
    },
    {
     "data": {
      "image/png": "[encoded data removed]",
      "text/plain": [
       "<Figure size 640x480 with 1 Axes>"
      ]
     },
     "metadata": {},
     "output_type": "display_data"
    }
   ],
   "source": [
    "import matplotlib.pyplot as plt\n",
    "\n",
    "plot_data = torch.mean(fourier_embeddings_mpnn, dim=-1)\n",
    "\n",
    "plt.bar(x=[i for i in range(nb_nodes)], height=plot_data[0].detach().cpu().numpy())\n"
   ]
  },
  {
   "cell_type": "code",
   "execution_count": 11,
   "id": "d123a2df-43cc-438b-b49b-b0a9e7e78ce5",
   "metadata": {},
   "outputs": [
    {
     "data": {
      "text/plain": [
       "<BarContainer object of 16 artists>"
      ]
     },
     "execution_count": 11,
     "metadata": {},
     "output_type": "execute_result"
    },
    {
     "data": {
      "image/png": "[encoded data removed]",
      "text/plain": [
       "<Figure size 640x480 with 1 Axes>"
      ]
     },
     "metadata": {},
     "output_type": "display_data"
    }
   ],
   "source": [
    "import matplotlib.pyplot as plt\n",
    "\n",
    "plot_data = torch.mean(fourier_embeddings_spectral, dim=-1)\n",
    "\n",
    "plt.bar(x=[i for i in range(nb_nodes)], height=plot_data[0].detach().cpu().numpy())\n"
   ]
  },
  {
   "cell_type": "code",
   "execution_count": null,
   "id": "d90d1c4c-f2cb-4edb-a683-1676f9fdf77a",
   "metadata": {},
   "outputs": [],
   "source": [
    "#ckpt_path = str(next(Path(f\"../checkpoints/{algorithms[0]}/\").glob(f\"{algorithms[0]}-mpnn*\")))\n",
    "\n",
    "loss_fn = AlgorithmicReasoningLoss()\n",
    "\n",
    "model = AlgorithmicReasoningTask.load_from_checkpoint(ckpt_path, model=model, loss_fn=loss_fn, strict=False).model.to(device)"
   ]
  }
 ],
 "metadata": {
  "kernelspec": {
   "display_name": "Python 3 (ipykernel)",
   "language": "python",
   "name": "python3"
  },
  "language_info": {
   "codemirror_mode": {
    "name": "ipython",
    "version": 3
   },
   "file_extension": ".py",
   "mimetype": "text/x-python",
   "name": "python",
   "nbconvert_exporter": "python",
   "pygments_lexer": "ipython3",
   "version": "3.10.12"
  }
 },
 "nbformat": 4,
 "nbformat_minor": 5
}
