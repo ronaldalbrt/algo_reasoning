{
 "cells": [
  {
   "cell_type": "code",
   "execution_count": null,
   "metadata": {},
   "outputs": [
    {
     "name": "stderr",
     "output_type": "stream",
     "text": [
      "/opt/miniconda3/envs/algo_reasoning/lib/python3.11/site-packages/tqdm/auto.py:21: TqdmWarning: IProgress not found. Please update jupyter and ipywidgets. See https://ipywidgets.readthedocs.io/en/stable/user_install.html\n",
      "  from .autonotebook import tqdm as notebook_tqdm\n"
     ]
    }
   ],
   "source": [
    "import torch\n",
    "from algo_reasoning.src.sampler import CLRSDataset\n",
    "from pathlib import Path\n",
    "import math\n",
    "\n",
    "device = torch.device(\"cuda\" if torch.cuda.is_available() else \"cpu\")"
   ]
  },
  {
   "cell_type": "code",
   "execution_count": 2,
   "metadata": {},
   "outputs": [],
   "source": [
    "def homophily_measure(adj_matrix, classes):\n",
    "    \"\"\"\n",
    "    Compute the homophily measure of the graph\n",
    "    \"\"\"\n",
    "    n = adj_matrix.shape[0]\n",
    "    homophily = 0\n",
    "    \n",
    "    for i in range(n):\n",
    "        node_homophily = 0\n",
    "        for j in range(n):\n",
    "            if classes[i] == classes[j]:\n",
    "                node_homophily += adj_matrix[i, j]\n",
    "\n",
    "        node_homophily /= adj_matrix[i].sum()\n",
    "        homophily += node_homophily\n",
    "\n",
    "    homophily /= n\n",
    "    return homophily"
   ]
  },
  {
   "cell_type": "code",
   "execution_count": 121,
   "metadata": {},
   "outputs": [],
   "source": [
    "def unbiased_homophily(adj_matrix, classes):\n",
    "    \"\"\"\n",
    "    Compute the unbiased homophily measure of the graph\n",
    "    As described in (https://arxiv.org/pdf/2412.09663)\n",
    "    \"\"\"\n",
    "    classes_unique = torch.unique(classes).int()\n",
    "    n_classes = classes_unique.size(0)\n",
    "    n_nodes = adj_matrix.size(0)\n",
    "    n_edges = 0\n",
    "\n",
    "    class_adj_matrix = torch.zeros(n_classes, n_classes)\n",
    "\n",
    "    edges_classes = dict()\n",
    "\n",
    "    for c1 in classes_unique.tolist():\n",
    "        for c2 in classes_unique.tolist():\n",
    "            edges_classes[(c1, c2)] = []\n",
    "\n",
    "    for i in range(n_nodes):\n",
    "        for j in range(i + 1, n_nodes):\n",
    "            if adj_matrix[i, j] > 0:\n",
    "                n_edges += 1\n",
    "                class_i = classes[i].item()\n",
    "                class_j = classes[j].item()\n",
    "\n",
    "                edges_classes[(class_i, class_j)].append((i, j))\n",
    "\n",
    "    for c1 in classes_unique.tolist():\n",
    "        for c2 in classes_unique.tolist():\n",
    "            class_adj_matrix[c1, c2] = len(edges_classes[(c1, c2)]) + len(edges_classes[(c2, c1)])\n",
    "\n",
    "            if c1 == c2:\n",
    "                class_adj_matrix[c1, c2] /= n_edges\n",
    "            else:\n",
    "                class_adj_matrix[c1, c2] /= 2*n_edges\n",
    "\n",
    "    numerator = 0\n",
    "    denominator = 0\n",
    "    for c1 in classes_unique.tolist():\n",
    "        filtered_classes = classes_unique[classes_unique > c1].tolist()\n",
    "        for c2 in filtered_classes:\n",
    "            numerator += torch.sqrt(class_adj_matrix[c1, c1]*class_adj_matrix[c2, c2]) - class_adj_matrix[c1, c2]\n",
    "            denominator += torch.sqrt(class_adj_matrix[c1, c1]*class_adj_matrix[c2, c2]) + class_adj_matrix[c1, c2]\n",
    "   \n",
    "    return (numerator/denominator).item()"
   ]
  },
  {
   "cell_type": "code",
   "execution_count": 149,
   "metadata": {},
   "outputs": [],
   "source": [
    "algorithms = [\"articulation_points\"]\n",
    "\n",
    "nb_nodes = [4, 7, 11, 13, 16]\n",
    "batch_size = 128\n",
    "ds = CLRSDataset(algorithms, nb_nodes, batch_size, 1000, seed=7, algorithms_args={'p': [0.05, 0.1, 0.15, 0.2 , 0.25, 0.3 , 0.35, 0.4 , 0.45]})"
   ]
  },
  {
   "cell_type": "code",
   "execution_count": 150,
   "metadata": {},
   "outputs": [],
   "source": [
    "obj = next(iter(ds))"
   ]
  },
  {
   "cell_type": "code",
   "execution_count": 151,
   "metadata": {},
   "outputs": [],
   "source": [
    "homophilies = [unbiased_homophily(obj.inputs.A[i], obj.outputs.is_cut[i]) for i in range(128) if torch.sum(obj.outputs.is_cut[i]).item() > 0]"
   ]
  },
  {
   "cell_type": "code",
   "execution_count": 152,
   "metadata": {},
   "outputs": [
    {
     "data": {
      "text/plain": [
       "[-1.0,\n",
       " 0.45454543828964233,\n",
       " -1.0,\n",
       " 0.4117646813392639,\n",
       " -0.18146027624607086,\n",
       " -1.0,\n",
       " 0.5120030641555786,\n",
       " -1.0,\n",
       " -1.0,\n",
       " -0.0051547507755458355,\n",
       " 0.07179673761129379,\n",
       " -1.0,\n",
       " 0.01405898667871952,\n",
       " 0.2828596532344818,\n",
       " -1.0,\n",
       " 0.4117647111415863,\n",
       " -1.0,\n",
       " -1.0,\n",
       " -1.0,\n",
       " -1.0,\n",
       " -1.0,\n",
       " 0.5582714676856995,\n",
       " 0.35653766989707947,\n",
       " -1.0,\n",
       " 0.4696762263774872,\n",
       " 0.061636775732040405,\n",
       " -0.20000000298023224,\n",
       " -1.0,\n",
       " -0.1111110970377922,\n",
       " -0.0031056294683367014,\n",
       " -1.0,\n",
       " -1.0,\n",
       " -1.0,\n",
       " 0.3870185911655426,\n",
       " 0.24040822684764862,\n",
       " -1.0,\n",
       " -0.0051547507755458355,\n",
       " -1.0,\n",
       " -1.0,\n",
       " -0.20000000298023224,\n",
       " 0.5194938778877258,\n",
       " 0.2251482456922531,\n",
       " 0.35653766989707947,\n",
       " -1.0,\n",
       " 0.2679491639137268,\n",
       " -1.0,\n",
       " -1.0,\n",
       " 0.27636757493019104,\n",
       " 0.35827526450157166,\n",
       " -1.0,\n",
       " -1.0,\n",
       " -1.0,\n",
       " 0.0,\n",
       " -1.0,\n",
       " -1.0,\n",
       " -1.0,\n",
       " 0.1219417154788971,\n",
       " -1.0,\n",
       " -1.0,\n",
       " 0.06666669994592667,\n",
       " -1.0,\n",
       " -1.0,\n",
       " -1.0,\n",
       " 0.1665654480457306,\n",
       " -1.0,\n",
       " 0.01405898667871952,\n",
       " -1.0,\n",
       " -1.0,\n",
       " -1.0,\n",
       " 0.2828596532344818,\n",
       " -1.0,\n",
       " -1.0,\n",
       " -1.0,\n",
       " -1.0,\n",
       " -1.0,\n",
       " -0.1111110970377922,\n",
       " -1.0,\n",
       " 0.6440522074699402,\n",
       " -1.0,\n",
       " -1.0,\n",
       " 0.17157284915447235,\n",
       " -0.3333333134651184,\n",
       " -1.0,\n",
       " 0.551981508731842,\n",
       " 0.2355453073978424,\n",
       " 0.24040821194648743,\n",
       " -1.0,\n",
       " -1.0,\n",
       " -1.0,\n",
       " 0.2355453073978424,\n",
       " -1.0,\n",
       " 0.1665654480457306,\n",
       " -1.0,\n",
       " -1.0,\n",
       " -0.029437249526381493,\n",
       " -1.0,\n",
       " 0.46967628598213196,\n",
       " 0.06666669249534607,\n",
       " -1.0,\n",
       " -0.18146027624607086,\n",
       " -1.0,\n",
       " -1.0,\n",
       " -1.0,\n",
       " -0.17157284915447235,\n",
       " 0.4514161944389343,\n",
       " -0.4285714030265808,\n",
       " -0.13007096946239471,\n",
       " 0.2679491639137268,\n",
       " -1.0,\n",
       " -1.0,\n",
       " -1.0]"
      ]
     },
     "execution_count": 152,
     "metadata": {},
     "output_type": "execute_result"
    }
   ],
   "source": [
    "homophilies"
   ]
  },
  {
   "cell_type": "code",
   "execution_count": 153,
   "metadata": {},
   "outputs": [
    {
     "data": {
      "text/plain": [
       "<seaborn.axisgrid.FacetGrid at 0x165131690>"
      ]
     },
     "execution_count": 153,
     "metadata": {},
     "output_type": "execute_result"
    },
    {
     "data": {
      "image/png": "[encoded data removed]",
      "text/plain": [
       "<Figure size 500x500 with 1 Axes>"
      ]
     },
     "metadata": {},
     "output_type": "display_data"
    }
   ],
   "source": [
    "import seaborn as sns\n",
    "\n",
    "sns.displot(homophilies, kde=True, bins=15)"
   ]
  },
  {
   "cell_type": "code",
   "execution_count": null,
   "metadata": {},
   "outputs": [],
   "source": []
  }
 ],
 "metadata": {
  "kernelspec": {
   "display_name": "algo_reasoning",
   "language": "python",
   "name": "python3"
  },
  "language_info": {
   "codemirror_mode": {
    "name": "ipython",
    "version": 3
   },
   "file_extension": ".py",
   "mimetype": "text/x-python",
   "name": "python",
   "nbconvert_exporter": "python",
   "pygments_lexer": "ipython3",
   "version": "3.11.11"
  }
 },
 "nbformat": 4,
 "nbformat_minor": 2
}
