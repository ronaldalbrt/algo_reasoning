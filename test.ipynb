{
 "cells": [
  {
   "cell_type": "code",
   "execution_count": 1,
   "metadata": {},
   "outputs": [
    {
     "name": "stderr",
     "output_type": "stream",
     "text": [
      "/Users/ronaldalbert/miniconda3/envs/algo_reasoning/lib/python3.12/site-packages/tqdm/auto.py:21: TqdmWarning: IProgress not found. Please update jupyter and ipywidgets. See https://ipywidgets.readthedocs.io/en/stable/user_install.html\n",
      "  from .autonotebook import tqdm as notebook_tqdm\n"
     ]
    }
   ],
   "source": [
    "from algo_reasoning.src.models.network import EncodeProcessDecode\n",
    "from algo_reasoning.src.data import CLRSDataset\n",
    "from torch.utils.data import DataLoader\n",
    "from algo_reasoning.src.data import CLRSData\n",
    "\n",
    "import numpy as np\n",
    "import pandas as pd\n",
    "import matplotlib.pyplot as plt\n",
    "\n",
    "import torch\n",
    "import torch.nn as nn\n",
    "import torch.nn.functional as F"
   ]
  },
  {
   "cell_type": "code",
   "execution_count": 2,
   "metadata": {},
   "outputs": [],
   "source": [
    "algos = [\n",
    "    'articulation_points',\n",
    "    'activity_selector',\n",
    "    'bellman_ford',\n",
    "    'bfs',\n",
    "    'binary_search',\n",
    "    'bubble_sort',\n",
    "    'dag_shortest_paths',\n",
    "    'dfs',\n",
    "    'dijkstra',\n",
    "    'find_maximum_subarray_kadane',\n",
    "    'floyd_warshall',\n",
    "    'graham_scan',\n",
    "    'heapsort',\n",
    "    'insertion_sort',\n",
    "    'jarvis_march',\n",
    "    'kmp_matcher',\n",
    "    'matrix_chain_order',\n",
    "    'minimum',\n",
    "    'mst_kruskal',\n",
    "    'mst_prim',\n",
    "    'naive_string_matcher',\n",
    "    'optimal_bst',\n",
    "    'quickselect',\n",
    "    'quicksort',\n",
    "    'segments_intersect',\n",
    "    'strongly_connected_components',\n",
    "    'task_scheduling',\n",
    "    'topological_sort',\n",
    "]"
   ]
  },
  {
   "cell_type": "markdown",
   "metadata": {},
   "source": [
    "# Helper Functions"
   ]
  },
  {
   "cell_type": "code",
   "execution_count": 3,
   "metadata": {},
   "outputs": [],
   "source": [
    "def calculate_embedding_similarities(embedding, embedding_generalist):\n",
    "    embedding_similarities = []\n",
    "\n",
    "    for i in range(len(embedding)):\n",
    "        embedding_similarities.append([])\n",
    "        embedding1 = embedding[i].detach().cpu()\n",
    "        embedding2 = embedding_generalist[i].detach().cpu()\n",
    "    \n",
    "        for j in range(embedding1.shape[0]):\n",
    "            for k in range(embedding2.shape[0]):\n",
    "                embedding_similarities[i].append(F.cosine_similarity(embedding1[j], embedding2[k]).mean().item())\n",
    "\n",
    "    sim_df = pd.DataFrame(embedding_similarities)\n",
    "\n",
    "    return sim_df"
   ]
  },
  {
   "cell_type": "markdown",
   "metadata": {},
   "source": [
    "# Three Kinds Dice"
   ]
  },
  {
   "cell_type": "markdown",
   "metadata": {},
   "source": [
    "## Load Dataset and Models"
   ]
  },
  {
   "cell_type": "code",
   "execution_count": 3,
   "metadata": {},
   "outputs": [],
   "source": [
    "algorithms = [\"three_kinds_dice\"]\n",
    "three_kinds_dice_ds = CLRSDataset(algorithms, \"train\", \"tmp/CLRS30\")\n",
    "\n",
    "algorithms2 = [\"jarvis_march\"]\n",
    "jarvis_march_ds = CLRSDataset(algorithms2, \"train\", \"tmp/CLRS30\")"
   ]
  },
  {
   "cell_type": "code",
   "execution_count": null,
   "metadata": {},
   "outputs": [],
   "source": [
    "processor = EncodeProcessDecode(algos).to(torch.device(\"cpu\")).processor\n",
    "state_dict = torch.load(\"checkpoints/Generalist_GMPNN_WithoutTeacherForcing/Generalist_GMPNN_WithoutTeacherForcing-epoch=95-val_loss=0.39.ckpt\", map_location=torch.device(\"cpu\"))[\"state_dict\"]\n",
    "new_state_dict = {}\n",
    "for key in state_dict:\n",
    "    if \"processor\" in key:\n",
    "        new_state_dict[key.replace(\"model.processor.\", \"\")] = state_dict[key]\n",
    "\n",
    "processor.load_state_dict(new_state_dict)\n",
    "\n",
    "generalist_model = EncodeProcessDecode(algos, pretrained_processor=processor).to(torch.device(\"cpu\"))\n",
    "\n",
    "pretrained_state_dict = torch.load(\"checkpoints/ThreeKindsDice_Pretrained/ThreeKindsDice_Pretrained-epoch=92-val_loss=0.02.ckpt\", map_location=torch.device(\"cpu\"))[\"state_dict\"]\n",
    "state_dict = torch.load(\"checkpoints/ThreeKindsDice_NotPretrained/ThreeKindsDice_NotPretrained-epoch=89-val_loss=0.02.ckpt\", map_location=torch.device(\"cpu\"))[\"state_dict\"]\n",
    "\n",
    "new_state_dict = {}\n",
    "new_pretrained_state_dict = {}\n",
    "for key in state_dict:\n",
    "    if \"model\" in key:\n",
    "        new_state_dict[key.replace(\"model.\", \"\")] = state_dict[key]\n",
    "        new_pretrained_state_dict[key.replace(\"model.\", \"\")] = pretrained_state_dict[key]\n",
    "pretrained_three_kinds_dice_model = EncodeProcessDecode(algorithms).to(torch.device(\"cpu\"))\n",
    "three_kinds_dice_model = EncodeProcessDecode(algorithms).to(torch.device(\"cpu\"))\n",
    "pretrained_three_kinds_dice_model.load_state_dict(new_pretrained_state_dict)\n",
    "three_kinds_dice_model.load_state_dict(new_state_dict)"
   ]
  },
  {
   "cell_type": "code",
   "execution_count": null,
   "metadata": {},
   "outputs": [],
   "source": [
    "generalist_model.eval()\n",
    "pretrained_three_kinds_dice_model.eval()\n",
    "three_kinds_dice_model.eval()"
   ]
  },
  {
   "cell_type": "markdown",
   "metadata": {
    "jp-MarkdownHeadingCollapsed": true
   },
   "source": [
    "## Calculate model's vector embeddings"
   ]
  },
  {
   "cell_type": "code",
   "execution_count": 6,
   "metadata": {},
   "outputs": [],
   "source": [
    "hidden_embedding_three_kinds_dice = []\n",
    "hidden_embedding_pretrained_three_kinds_dice = []\n",
    "\n",
    "hidden_embedding_generalist = []\n",
    "\n",
    "with torch.no_grad():\n",
    "    for i in range(len(three_kinds_dice_ds)):\n",
    "        sample = three_kinds_dice_ds[i]\n",
    "        output, hidden_embeddings = three_kinds_dice_model(sample.to(torch.device(\"cpu\")))\n",
    "        hidden_embedding_three_kinds_dice.append(hidden_embeddings)\n",
    "\n",
    "        output, pretrained_hidden_embeddings = pretrained_three_kinds_dice_model(sample.to(torch.device(\"cpu\")))\n",
    "        hidden_embedding_pretrained_three_kinds_dice.append(pretrained_hidden_embeddings)\n",
    "    \n",
    "        jarvis_march_input = CLRSData(inputs=CLRSData(pos=sample.inputs.pos, x=sample.hints.score_D1[:, 0, :], y=sample.hints.score_D2[:, 0, :]), \n",
    "                                      hints=CLRSData(), \n",
    "                                      length=torch.tensor(50).float(), \n",
    "                                      max_length=torch.tensor(50).float(),\n",
    "                                      outputs=CLRSData(), \n",
    "                                      algorithm=\"jarvis_march\")\n",
    "        \n",
    "        output_jarvis_march, hidden_embeddings_jarvis_march = generalist_model(jarvis_march_input.to(torch.device(\"cpu\")))\n",
    "        hidden_embedding_generalist.append(hidden_embeddings_jarvis_march)"
   ]
  },
  {
   "cell_type": "markdown",
   "metadata": {},
   "source": [
    "## Calculate Embedding's Similarities"
   ]
  },
  {
   "cell_type": "code",
   "execution_count": 8,
   "metadata": {},
   "outputs": [],
   "source": [
    "pretrained_sim_df = calculate_embedding_similarities(hidden_embedding_pretrained_three_kinds_dice, hidden_embedding_generalist)\n",
    "sim_df = calculate_embedding_similarities(hidden_embedding_three_kinds_dice, hidden_embedding_generalist)"
   ]
  },
  {
   "cell_type": "code",
   "execution_count": null,
   "metadata": {},
   "outputs": [],
   "source": [
    "plt.plot(sim_df.mean(), label=\"Avg Sim-Not Pretrained\")\n",
    "plt.plot(pretrained_sim_df.mean(), label=\"Avg Sim-Pretrained\")\n",
    "plt.legend()\n",
    "plt.show()"
   ]
  },
  {
   "cell_type": "code",
   "execution_count": null,
   "metadata": {},
   "outputs": [],
   "source": [
    "plt.plot(sim_df.std(), label=\"Std Sim-Non Pretrained\")\n",
    "plt.plot(pretrained_sim_df.std(), label=\"Std Sim-Pretrained\")\n",
    "plt.legend()"
   ]
  },
  {
   "cell_type": "markdown",
   "metadata": {},
   "source": [
    "# Carl's Vacation"
   ]
  },
  {
   "cell_type": "markdown",
   "metadata": {},
   "source": [
    "## Load Dataset and Models"
   ]
  },
  {
   "cell_type": "code",
   "execution_count": 4,
   "metadata": {},
   "outputs": [],
   "source": [
    "algorithms = [\"carls_vacation\"]\n",
    "carls_vacation_ds = CLRSDataset(algorithms, \"train\", \"tmp/CLRS30\")\n",
    "\n",
    "algorithms2 = [\"segments_intersect\"]\n",
    "segments_intersect_ds = CLRSDataset(algorithms2, \"train\", \"tmp/CLRS30\")"
   ]
  },
  {
   "cell_type": "code",
   "execution_count": 5,
   "metadata": {},
   "outputs": [
    {
     "data": {
      "text/plain": [
       "<All keys matched successfully>"
      ]
     },
     "execution_count": 5,
     "metadata": {},
     "output_type": "execute_result"
    }
   ],
   "source": [
    "state_dict = torch.load(\"checkpoints/SegmentsIntersect_Pretrained_FreezeProcessor/SegmentsIntersect_Pretrained_FreezeProcessor-epoch=93-val_loss=0.52.ckpt\", map_location=torch.device(\"cpu\"))[\"state_dict\"]\n",
    "new_state_dict = {}\n",
    "for key in state_dict:\n",
    "    if \"model\" in key:\n",
    "        new_state_dict[key.replace(\"model.\", \"\")] = state_dict[key]\n",
    "\n",
    "generalist_model = EncodeProcessDecode(algorithms2).to(torch.device(\"cpu\"))\n",
    "generalist_model.load_state_dict(new_state_dict)\n",
    "\n",
    "pretrained_state_dict = torch.load(\"checkpoints/CarlsVacation_Pretrained/CarlsVacation_Pretrained-epoch=98-val_loss=1398.56.ckpt\", map_location=torch.device(\"cpu\"))[\"state_dict\"]\n",
    "state_dict = torch.load(\"checkpoints/CarlsVacation_NotPretrained/CarlsVacation_NotPretrained-epoch=98-val_loss=1151.06.ckpt\", map_location=torch.device(\"cpu\"))[\"state_dict\"]\n",
    "\n",
    "new_state_dict = {}\n",
    "new_pretrained_state_dict = {}\n",
    "for key in state_dict:\n",
    "    if \"model\" in key:\n",
    "        new_state_dict[key.replace(\"model.\", \"\")] = state_dict[key]\n",
    "        new_pretrained_state_dict[key.replace(\"model.\", \"\")] = pretrained_state_dict[key]\n",
    "pretrained_carls_vacation_model = EncodeProcessDecode(algorithms).to(torch.device(\"cpu\"))\n",
    "carls_vacation_model = EncodeProcessDecode(algorithms).to(torch.device(\"cpu\"))\n",
    "pretrained_carls_vacation_model.load_state_dict(new_pretrained_state_dict)\n",
    "carls_vacation_model.load_state_dict(new_state_dict)"
   ]
  },
  {
   "cell_type": "code",
   "execution_count": 6,
   "metadata": {},
   "outputs": [
    {
     "data": {
      "text/plain": [
       "EncodeProcessDecode(\n",
       "  (encoders): ModuleDict(\n",
       "    (segments_intersect): Encoder(\n",
       "      (encoder): ModuleDict(\n",
       "        (pos): LinearEncoder(\n",
       "          (lin): Linear(in_features=1, out_features=128, bias=True)\n",
       "        )\n",
       "        (x): LinearEncoder(\n",
       "          (lin): Linear(in_features=1, out_features=128, bias=True)\n",
       "        )\n",
       "        (y): LinearEncoder(\n",
       "          (lin): Linear(in_features=1, out_features=128, bias=True)\n",
       "        )\n",
       "        (i): LinearEncoder(\n",
       "          (lin): Linear(in_features=1, out_features=128, bias=True)\n",
       "        )\n",
       "        (j): LinearEncoder(\n",
       "          (lin): Linear(in_features=1, out_features=128, bias=True)\n",
       "        )\n",
       "        (k): LinearEncoder(\n",
       "          (lin): Linear(in_features=1, out_features=128, bias=True)\n",
       "        )\n",
       "        (dir): LinearEncoder(\n",
       "          (lin): Linear(in_features=1, out_features=128, bias=True)\n",
       "        )\n",
       "        (on_seg): LinearEncoder(\n",
       "          (lin): Linear(in_features=1, out_features=128, bias=True)\n",
       "        )\n",
       "      )\n",
       "    )\n",
       "  )\n",
       "  (decoders): ModuleDict(\n",
       "    (segments_intersect): Decoder(\n",
       "      (decoder): ModuleDict(\n",
       "        (intersect): GraphBaseDecoder(\n",
       "          (lin1): Linear(in_features=128, out_features=1, bias=True)\n",
       "          (lin2): Linear(in_features=128, out_features=1, bias=True)\n",
       "        )\n",
       "        (i): NodeBaseDecoder(\n",
       "          (lin): Linear(in_features=128, out_features=1, bias=True)\n",
       "        )\n",
       "        (j): NodeBaseDecoder(\n",
       "          (lin): Linear(in_features=128, out_features=1, bias=True)\n",
       "        )\n",
       "        (k): NodeBaseDecoder(\n",
       "          (lin): Linear(in_features=128, out_features=1, bias=True)\n",
       "        )\n",
       "        (dir): NodeBaseDecoder(\n",
       "          (lin): Linear(in_features=128, out_features=1, bias=True)\n",
       "        )\n",
       "        (on_seg): NodeBaseDecoder(\n",
       "          (lin): Linear(in_features=128, out_features=1, bias=True)\n",
       "        )\n",
       "      )\n",
       "    )\n",
       "  )\n",
       "  (processor): MPNN(\n",
       "    (activation): ReLU()\n",
       "    (m_1): Linear(in_features=256, out_features=128, bias=True)\n",
       "    (m_2): Linear(in_features=256, out_features=128, bias=True)\n",
       "    (m_e): Linear(in_features=128, out_features=128, bias=True)\n",
       "    (m_g): Linear(in_features=128, out_features=128, bias=True)\n",
       "    (norm): LayerNorm((128,), eps=1e-05, elementwise_affine=True)\n",
       "    (msg_mlp): Sequential(\n",
       "      (0): ReLU()\n",
       "      (1): Linear(in_features=128, out_features=128, bias=True)\n",
       "      (2): ReLU()\n",
       "      (3): Linear(in_features=128, out_features=128, bias=True)\n",
       "    )\n",
       "    (o1): Linear(in_features=256, out_features=128, bias=True)\n",
       "    (o2): Linear(in_features=128, out_features=128, bias=True)\n",
       "    (t_1): Linear(in_features=256, out_features=8, bias=True)\n",
       "    (t_2): Linear(in_features=256, out_features=8, bias=True)\n",
       "    (t_3): Linear(in_features=256, out_features=8, bias=True)\n",
       "    (t_e_1): Linear(in_features=128, out_features=8, bias=True)\n",
       "    (t_e_2): Linear(in_features=128, out_features=8, bias=True)\n",
       "    (t_e_3): Linear(in_features=128, out_features=8, bias=True)\n",
       "    (t_g): Linear(in_features=128, out_features=8, bias=True)\n",
       "    (o3): Linear(in_features=8, out_features=128, bias=True)\n",
       "  )\n",
       "  (dropout): Dropout(p=0.1, inplace=False)\n",
       ")"
      ]
     },
     "execution_count": 6,
     "metadata": {},
     "output_type": "execute_result"
    }
   ],
   "source": [
    "pretrained_carls_vacation_model.eval()\n",
    "carls_vacation_model.eval()\n",
    "generalist_model.eval()"
   ]
  },
  {
   "cell_type": "code",
   "execution_count": 7,
   "metadata": {},
   "outputs": [],
   "source": [
    "hidden_embedding_carls_vacation = []\n",
    "hidden_embedding_pretrained_carls_vacation = []\n",
    "\n",
    "hidden_embedding_generalist1 = []\n",
    "hidden_embedding_generalist2 = []\n",
    "\n",
    "with torch.no_grad():\n",
    "    for i in range(len(carls_vacation_ds)):\n",
    "        sample = carls_vacation_ds[i]\n",
    "        output, hidden_embeddings = carls_vacation_model(sample.to(torch.device(\"cpu\")))\n",
    "        hidden_embedding_carls_vacation.append(hidden_embeddings)\n",
    "\n",
    "        output, pretrained_hidden_embeddings = pretrained_carls_vacation_model(sample.to(torch.device(\"cpu\")))\n",
    "        hidden_embedding_pretrained_carls_vacation.append(pretrained_hidden_embeddings)\n",
    "\n",
    "        input_x = sample.hints\n",
    "    \n",
    "        segments_intersect_input1 = CLRSData(inputs=CLRSData(pos=sample.inputs.pos, x=sample.hints.tops_segment1_x[:, 1], y=sample.hints.tops_segment1_y[:, 1]), \n",
    "                                      hints=CLRSData(), \n",
    "                                      length=torch.tensor(50).float(), \n",
    "                                      max_length=torch.tensor(50).float(),\n",
    "                                      outputs=CLRSData(), \n",
    "                                      algorithm=\"segments_intersect\")\n",
    "        \n",
    "        segments_intersect_input2 = CLRSData(inputs=CLRSData(pos=sample.inputs.pos, x=sample.hints.tops_segment2_x[:, 1], y=sample.hints.tops_segment2_y[:, 1]), \n",
    "                                      hints=CLRSData(), \n",
    "                                      length=torch.tensor(50).float(), \n",
    "                                      max_length=torch.tensor(50).float(),\n",
    "                                      outputs=CLRSData(), \n",
    "                                      algorithm=\"segments_intersect\")\n",
    "        \n",
    "        _, hidden_embeddings_segments_intersect1 = generalist_model(segments_intersect_input1.to(torch.device(\"cpu\")))\n",
    "        _, hidden_embeddings_segments_intersect2 = generalist_model(segments_intersect_input2.to(torch.device(\"cpu\")))\n",
    "\n",
    "        hidden_embedding_generalist1.append(hidden_embeddings_segments_intersect1)\n",
    "        hidden_embedding_generalist2.append(hidden_embeddings_segments_intersect2)"
   ]
  },
  {
   "cell_type": "code",
   "execution_count": 8,
   "metadata": {},
   "outputs": [],
   "source": [
    "pretrained_sim_df = calculate_embedding_similarities(hidden_embedding_pretrained_carls_vacation, hidden_embedding_generalist1)\n",
    "sim_df = calculate_embedding_similarities(hidden_embedding_carls_vacation, hidden_embedding_generalist1)"
   ]
  },
  {
   "cell_type": "code",
   "execution_count": 9,
   "metadata": {},
   "outputs": [
    {
     "data": {
      "image/png": "[encoded data removed]",
      "text/plain": [
       "<Figure size 640x480 with 1 Axes>"
      ]
     },
     "metadata": {},
     "output_type": "display_data"
    }
   ],
   "source": [
    "plt.plot(sim_df.mean(), label=\"Avg Sim-Not Pretrained\")\n",
    "plt.plot(pretrained_sim_df.mean(), label=\"Avg Sim-Pretrained\")\n",
    "plt.legend()\n",
    "plt.show()"
   ]
  },
  {
   "cell_type": "code",
   "execution_count": 10,
   "metadata": {},
   "outputs": [
    {
     "data": {
      "text/plain": [
       "<matplotlib.legend.Legend at 0x367289c40>"
      ]
     },
     "execution_count": 10,
     "metadata": {},
     "output_type": "execute_result"
    },
    {
     "data": {
      "image/png": "[encoded data removed]",
      "text/plain": [
       "<Figure size 640x480 with 1 Axes>"
      ]
     },
     "metadata": {},
     "output_type": "display_data"
    }
   ],
   "source": [
    "plt.plot(sim_df.std(), label=\"Std Sim-Non Pretrained\")\n",
    "plt.plot(pretrained_sim_df.std(), label=\"Std Sim-Pretrained\")\n",
    "plt.legend()"
   ]
  },
  {
   "cell_type": "code",
   "execution_count": 11,
   "metadata": {},
   "outputs": [],
   "source": [
    "pretrained_sim_df = calculate_embedding_similarities(hidden_embedding_pretrained_carls_vacation, hidden_embedding_generalist2)\n",
    "sim_df = calculate_embedding_similarities(hidden_embedding_carls_vacation, hidden_embedding_generalist2)"
   ]
  },
  {
   "cell_type": "code",
   "execution_count": 12,
   "metadata": {},
   "outputs": [
    {
     "data": {
      "image/png": "[encoded data removed]",
      "text/plain": [
       "<Figure size 640x480 with 1 Axes>"
      ]
     },
     "metadata": {},
     "output_type": "display_data"
    }
   ],
   "source": [
    "plt.plot(sim_df.mean(), label=\"Avg Sim-Not Pretrained\")\n",
    "plt.plot(pretrained_sim_df.mean(), label=\"Avg Sim-Pretrained\")\n",
    "plt.legend()\n",
    "plt.show()"
   ]
  },
  {
   "cell_type": "code",
   "execution_count": 13,
   "metadata": {},
   "outputs": [
    {
     "data": {
      "text/plain": [
       "<matplotlib.legend.Legend at 0x367045580>"
      ]
     },
     "execution_count": 13,
     "metadata": {},
     "output_type": "execute_result"
    },
    {
     "data": {
      "image/png": "[encoded data removed]",
      "text/plain": [
       "<Figure size 640x480 with 1 Axes>"
      ]
     },
     "metadata": {},
     "output_type": "display_data"
    }
   ],
   "source": [
    "plt.plot(sim_df.std(), label=\"Std Sim-Non Pretrained\")\n",
    "plt.plot(pretrained_sim_df.std(), label=\"Std Sim-Pretrained\")\n",
    "plt.legend()"
   ]
  }
 ],
 "metadata": {
  "kernelspec": {
   "display_name": "Python 3 (ipykernel)",
   "language": "python",
   "name": "python3"
  },
  "language_info": {
   "codemirror_mode": {
    "name": "ipython",
    "version": 3
   },
   "file_extension": ".py",
   "mimetype": "text/x-python",
   "name": "python",
   "nbconvert_exporter": "python",
   "pygments_lexer": "ipython3",
   "version": "3.12.2"
  }
 },
 "nbformat": 4,
 "nbformat_minor": 4
}
