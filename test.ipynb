{
 "cells": [
  {
   "cell_type": "code",
   "execution_count": 1,
   "metadata": {},
   "outputs": [
    {
     "name": "stderr",
     "output_type": "stream",
     "text": [
      "2024-09-09 10:23:56.722246: E external/local_xla/xla/stream_executor/cuda/cuda_fft.cc:479] Unable to register cuFFT factory: Attempting to register factory for plugin cuFFT when one has already been registered\n",
      "2024-09-09 10:23:56.802759: E external/local_xla/xla/stream_executor/cuda/cuda_dnn.cc:10575] Unable to register cuDNN factory: Attempting to register factory for plugin cuDNN when one has already been registered\n",
      "2024-09-09 10:23:56.803253: E external/local_xla/xla/stream_executor/cuda/cuda_blas.cc:1442] Unable to register cuBLAS factory: Attempting to register factory for plugin cuBLAS when one has already been registered\n",
      "2024-09-09 10:23:58.405069: W tensorflow/compiler/tf2tensorrt/utils/py_utils.cc:38] TF-TRT Warning: Could not find TensorRT\n",
      "/home/ronald/Documents/env/algo_reasoning/lib/python3.12/site-packages/tqdm/auto.py:21: TqdmWarning: IProgress not found. Please update jupyter and ipywidgets. See https://ipywidgets.readthedocs.io/en/stable/user_install.html\n",
      "  from .autonotebook import tqdm as notebook_tqdm\n"
     ]
    }
   ],
   "source": [
    "from algo_reasoning.src.models.network import EncodeProcessDecode\n",
    "from algo_reasoning.src.data import CLRSDataset, CLRSSampler, collate\n",
    "from torch.utils.data import DataLoader\n",
    "import torch\n",
    "from algo_reasoning.src.data import CLRSData"
   ]
  },
  {
   "cell_type": "markdown",
   "metadata": {},
   "source": [
    "## Load Dataset and Model"
   ]
  },
  {
   "cell_type": "code",
   "execution_count": 2,
   "metadata": {},
   "outputs": [],
   "source": [
    "algos = [\n",
    "    'articulation_points',\n",
    "    'activity_selector',\n",
    "    'bellman_ford',\n",
    "    'bfs',\n",
    "    'binary_search',\n",
    "    'bubble_sort',\n",
    "    'dag_shortest_paths',\n",
    "    'dfs',\n",
    "    'dijkstra',\n",
    "    'find_maximum_subarray_kadane',\n",
    "    'floyd_warshall',\n",
    "    'graham_scan',\n",
    "    'heapsort',\n",
    "    'insertion_sort',\n",
    "    'jarvis_march',\n",
    "    'kmp_matcher',\n",
    "    'matrix_chain_order',\n",
    "    'minimum',\n",
    "    'mst_kruskal',\n",
    "    'mst_prim',\n",
    "    'naive_string_matcher',\n",
    "    'optimal_bst',\n",
    "    'quickselect',\n",
    "    'quicksort',\n",
    "    'segments_intersect',\n",
    "    'strongly_connected_components',\n",
    "    'task_scheduling',\n",
    "    'topological_sort',\n",
    "]"
   ]
  },
  {
   "cell_type": "code",
   "execution_count": 3,
   "metadata": {},
   "outputs": [],
   "source": [
    "algorithms = [\"three_kinds_dice\"]\n",
    "three_kinds_dice_ds = CLRSDataset(algorithms, \"train\", \"tmp/CLRS30\")\n",
    "three_kinds_dice_sampler = CLRSSampler(three_kinds_dice_ds, algorithms, 32, replacement=False)\n",
    "\n",
    "three_kinds_dice_loader = DataLoader(three_kinds_dice_ds, batch_sampler=three_kinds_dice_sampler, collate_fn=collate)"
   ]
  },
  {
   "cell_type": "code",
   "execution_count": 4,
   "metadata": {},
   "outputs": [],
   "source": [
    "algorithms2 = [\"jarvis_march\"]\n",
    "jarvis_march_ds = CLRSDataset(algorithms2, \"train\", \"tmp/CLRS30\")\n",
    "jarvis_march_sampler = CLRSSampler(jarvis_march_ds, algorithms2, 32, replacement=False)\n",
    "\n",
    "jarvis_march_loader = DataLoader(jarvis_march_ds, batch_sampler=jarvis_march_sampler, collate_fn=collate)"
   ]
  },
  {
   "cell_type": "code",
   "execution_count": 5,
   "metadata": {},
   "outputs": [
    {
     "name": "stderr",
     "output_type": "stream",
     "text": [
      "/tmp/ipykernel_6374/2852374136.py:2: FutureWarning: You are using `torch.load` with `weights_only=False` (the current default value), which uses the default pickle module implicitly. It is possible to construct malicious pickle data which will execute arbitrary code during unpickling (See https://github.com/pytorch/pytorch/blob/main/SECURITY.md#untrusted-models for more details). In a future release, the default value for `weights_only` will be flipped to `True`. This limits the functions that could be executed during unpickling. Arbitrary objects will no longer be allowed to be loaded via this mode unless they are explicitly allowlisted by the user via `torch.serialization.add_safe_globals`. We recommend you start setting `weights_only=True` for any use case where you don't have full control of the loaded file. Please open an issue on GitHub for any issues related to this experimental feature.\n",
      "  state_dict = torch.load(\"checkpoints/Generalist_GMPNN_WithoutTeacherForcing/Generalist_GMPNN_WithoutTeacherForcing-epoch=95-val_loss=0.39.ckpt\", map_location=torch.device(\"cuda\"))[\"state_dict\"]\n",
      "/tmp/ipykernel_6374/2852374136.py:12: FutureWarning: You are using `torch.load` with `weights_only=False` (the current default value), which uses the default pickle module implicitly. It is possible to construct malicious pickle data which will execute arbitrary code during unpickling (See https://github.com/pytorch/pytorch/blob/main/SECURITY.md#untrusted-models for more details). In a future release, the default value for `weights_only` will be flipped to `True`. This limits the functions that could be executed during unpickling. Arbitrary objects will no longer be allowed to be loaded via this mode unless they are explicitly allowlisted by the user via `torch.serialization.add_safe_globals`. We recommend you start setting `weights_only=True` for any use case where you don't have full control of the loaded file. Please open an issue on GitHub for any issues related to this experimental feature.\n",
      "  state_dict = torch.load(\"checkpoints/ThreeKindsDice_Pretrained/ThreeKindsDice_Pretrained-epoch=92-val_loss=0.02.ckpt\", map_location=torch.device(\"cuda\"))[\"state_dict\"]\n"
     ]
    },
    {
     "data": {
      "text/plain": [
       "<All keys matched successfully>"
      ]
     },
     "execution_count": 5,
     "metadata": {},
     "output_type": "execute_result"
    }
   ],
   "source": [
    "processor = EncodeProcessDecode(algos).processor\n",
    "state_dict = torch.load(\"checkpoints/Generalist_GMPNN_WithoutTeacherForcing/Generalist_GMPNN_WithoutTeacherForcing-epoch=95-val_loss=0.39.ckpt\", map_location=torch.device(\"cuda\"))[\"state_dict\"]\n",
    "new_state_dict = {}\n",
    "for key in state_dict:\n",
    "    if \"processor\" in key:\n",
    "        new_state_dict[key.replace(\"model.processor.\", \"\")] = state_dict[key]\n",
    "\n",
    "processor.load_state_dict(new_state_dict)\n",
    "\n",
    "generalist_model = EncodeProcessDecode(algos, pretrained_processor=processor)\n",
    "\n",
    "state_dict = torch.load(\"checkpoints/ThreeKindsDice_Pretrained/ThreeKindsDice_Pretrained-epoch=92-val_loss=0.02.ckpt\", map_location=torch.device(\"cuda\"))[\"state_dict\"]\n",
    "new_state_dict = {}\n",
    "for key in state_dict:\n",
    "    if \"model\" in key:\n",
    "        new_state_dict[key.replace(\"model.\", \"\")] = state_dict[key]\n",
    "three_kinds_dice_model = EncodeProcessDecode(algorithms)\n",
    "three_kinds_dice_model.load_state_dict(new_state_dict)"
   ]
  },
  {
   "cell_type": "code",
   "execution_count": 6,
   "metadata": {},
   "outputs": [
    {
     "name": "stderr",
     "output_type": "stream",
     "text": [
      "/home/ronald/Documents/algo_reasoning/algo_reasoning/src/data.py:199: FutureWarning: You are using `torch.load` with `weights_only=False` (the current default value), which uses the default pickle module implicitly. It is possible to construct malicious pickle data which will execute arbitrary code during unpickling (See https://github.com/pytorch/pytorch/blob/main/SECURITY.md#untrusted-models for more details). In a future release, the default value for `weights_only` will be flipped to `True`. This limits the functions that could be executed during unpickling. Arbitrary objects will no longer be allowed to be loaded via this mode unless they are explicitly allowlisted by the user via `torch.serialization.add_safe_globals`. We recommend you start setting `weights_only=True` for any use case where you don't have full control of the loaded file. Please open an issue on GitHub for any issues related to this experimental feature.\n",
      "  return torch.load(f\"{self.data_folder}/{algorithm}/{self.split}/{data_idx}\")\n"
     ]
    }
   ],
   "source": [
    "with torch.no_grad():\n",
    "    generalist_model.eval()\n",
    "    three_kinds_dice_model.eval()\n",
    "\n",
    "    batch = next(iter(jarvis_march_loader))\n",
    "    output, hidden_embeddings = generalist_model(batch)\n",
    "\n",
    "    batch.hints = CLRSData()\n",
    "    batch.outputs = CLRSData()\n",
    "    batch.max_length = torch.tensor(1)\n",
    "    output2, hidden_embeddings2 = generalist_model(batch)"
   ]
  },
  {
   "cell_type": "code",
   "execution_count": 7,
   "metadata": {},
   "outputs": [],
   "source": [
    "sample = jarvis_march_ds[0]\n",
    "output, hidden_embeddings = generalist_model(sample)"
   ]
  },
  {
   "cell_type": "code",
   "execution_count": 8,
   "metadata": {},
   "outputs": [],
   "source": [
    "hidden_embedding_three_kinds_dice = []\n",
    "hidden_embedding_generalist = []\n",
    "\n",
    "for i in range(len(three_kinds_dice_ds)):\n",
    "    sample = three_kinds_dice_ds[i]\n",
    "    output, hidden_embeddings = three_kinds_dice_model(sample)\n",
    "    hidden_embedding_three_kinds_dice.append(hidden_embeddings)\n",
    "\n",
    "    jarvis_march_input = CLRSData(inputs=CLRSData(pos=sample.inputs.pos, x=sample.hints.score_D1[:, 0, :], y=sample.hints.score_D2[:, 0, :]), \n",
    "                                  hints=CLRSData(), \n",
    "                                  length=torch.tensor(1).float(), \n",
    "                                  max_length=torch.tensor(1).float(),\n",
    "                                  outputs=CLRSData(), \n",
    "                                  algorithm=\"jarvis_march\")\n",
    "    \n",
    "    output_jarvis_march, hidden_embeddings_jarvis_march = generalist_model(jarvis_march_input)\n",
    "    hidden_embedding_generalist.append(hidden_embeddings_jarvis_march)"
   ]
  },
  {
   "cell_type": "code",
   "execution_count": 11,
   "metadata": {},
   "outputs": [
    {
     "data": {
      "text/plain": [
       "torch.Size([2, 16, 128])"
      ]
     },
     "execution_count": 11,
     "metadata": {},
     "output_type": "execute_result"
    }
   ],
   "source": [
    "\n",
    "\n",
    "hidden_embedding_three_kinds_dice[0].shape"
   ]
  }
 ],
 "metadata": {
  "kernelspec": {
   "display_name": "algo_reasoning",
   "language": "python",
   "name": "python3"
  },
  "language_info": {
   "codemirror_mode": {
    "name": "ipython",
    "version": 3
   },
   "file_extension": ".py",
   "mimetype": "text/x-python",
   "name": "python",
   "nbconvert_exporter": "python",
   "pygments_lexer": "ipython3",
   "version": "3.12.3"
  }
 },
 "nbformat": 4,
 "nbformat_minor": 2
}
